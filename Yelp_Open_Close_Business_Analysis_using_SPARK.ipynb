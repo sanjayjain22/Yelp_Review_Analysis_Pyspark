{
 "cells": [
  {
   "cell_type": "markdown",
   "metadata": {},
   "source": [
    "# <font color = 'black'> This Dataset was downloaded from https://www.yelp.com/dataset.\n",
    "    \n",
    "#  The Aim of this project was to Identify the reasons and trends of factors leading to the closure of Restaurnts in U.S\n",
    "    \n",
    "##  Processing and analysis was done in SPARK server using PySpark for it's ability of distributed computing."
   ]
  },
  {
   "cell_type": "code",
   "execution_count": 2,
   "metadata": {},
   "outputs": [],
   "source": [
    "import pyspark \n",
    "import os\n",
    "\n",
    "from pyspark.sql.functions import when\n",
    "from wordcloud import WordCloud \n",
    "\n",
    "from pyspark.context import SparkContext, SparkConf\n",
    "from pyspark.ml.clustering import KMeans\n",
    "from pyspark.context import SparkContext\n",
    "from pyspark.sql.session import SparkSession\n",
    "from pyspark.ml.linalg import Vectors,Vector\n",
    "\n",
    "from pyspark.ml.evaluation import ClusteringEvaluator\n",
    "from pyspark.ml.clustering import KMeans\n",
    "from pyspark.context import SparkContext\n",
    "from pyspark.sql.session import SparkSession\n",
    "from pyspark.ml.feature import Tokenizer, HashingTF, IDF \n",
    "from pyspark.ml.classification import LogisticRegression\n",
    "from pyspark.ml import Pipeline\n",
    "from pyspark.sql.functions import col\n",
    "from nltk.corpus import stopwords\n",
    "import re as re\n",
    "from pyspark.ml.feature import CountVectorizer , IDF\n",
    "\n",
    "from sparknlp.base import *\n",
    "from sparknlp.annotator import *\n",
    "from sparknlp.pretrained import PretrainedPipeline\n",
    "import sparknlp\n",
    "\n",
    "from pyspark.ml.clustering import LDA, LocalLDAModel\n",
    "\n",
    "from nltk.corpus import stopwords\n",
    "import re as re\n",
    "from pyspark.ml.feature import CountVectorizer , IDF\n",
    "\n",
    "\n",
    "from sparknlp.base import Finisher, DocumentAssembler\n",
    "from sparknlp.annotator import (Tokenizer, Normalizer,\n",
    "                                LemmatizerModel, StopWordsCleaner)\n",
    "from pyspark.ml import Pipeline\n",
    "\n",
    "from nltk.corpus import stopwords\n",
    "eng_stopwords = stopwords.words('english')\n",
    "eng_stopwords.append('xxxx')\n",
    "\n",
    "from pyspark import SparkContext\n",
    "from pyspark.sql.types import *\n",
    "from pyspark.sql import SparkSession\n",
    "from pyspark.sql.functions import col, lit\n",
    "from functools import reduce\n",
    "import nltk\n",
    "from nltk.corpus import stopwords\n",
    "from nltk.stem import WordNetLemmatizer\n",
    "import matplotlib.pyplot as plt\n",
    "from wordcloud import WordCloud \n",
    "import pandas as pd\n",
    "import re\n",
    "import string\n",
    "\n",
    "import pyspark.sql.functions as f\n",
    "from pyspark.sql import SparkSession, Row\n",
    "\n",
    "from pyspark.sql.functions import udf, log"
   ]
  },
  {
   "cell_type": "code",
   "execution_count": 2,
   "metadata": {},
   "outputs": [],
   "source": [
    "from pyspark.sql.functions import monotonically_increasing_id"
   ]
  },
  {
   "cell_type": "code",
   "execution_count": 3,
   "metadata": {},
   "outputs": [],
   "source": [
    "spark = sparknlp.start()\n"
   ]
  },
  {
   "cell_type": "code",
   "execution_count": 4,
   "metadata": {},
   "outputs": [],
   "source": [
    "from pyspark.sql import SparkSession\n",
    "# start spark session configured for spark nlp\n",
    "spark = SparkSession.builder \\\n",
    "     .master('local[*]') \\\n",
    "     .appName('Spark NLP Boss') \\\n",
    "     .config('spark.jars.packages', \n",
    "             'com.johnsnowlabs.nlp:spark-nlp_2.11:2.3.5') \\\n",
    "     .getOrCreate()"
   ]
  },
  {
   "cell_type": "code",
   "execution_count": 254,
   "metadata": {},
   "outputs": [
    {
     "data": {
      "text/html": [
       "\n",
       "            <div>\n",
       "                <p><b>SparkSession - in-memory</b></p>\n",
       "                \n",
       "        <div>\n",
       "            <p><b>SparkContext</b></p>\n",
       "\n",
       "            <p><a href=\"http://10.242.58.198:4041\">Spark UI</a></p>\n",
       "\n",
       "            <dl>\n",
       "              <dt>Version</dt>\n",
       "                <dd><code>v2.4.4</code></dd>\n",
       "              <dt>Master</dt>\n",
       "                <dd><code>local[*]</code></dd>\n",
       "              <dt>AppName</dt>\n",
       "                <dd><code>Spark NLP</code></dd>\n",
       "            </dl>\n",
       "        </div>\n",
       "        \n",
       "            </div>\n",
       "        "
      ],
      "text/plain": [
       "<pyspark.sql.session.SparkSession at 0x13133e950>"
      ]
     },
     "execution_count": 254,
     "metadata": {},
     "output_type": "execute_result"
    }
   ],
   "source": [
    "spark"
   ]
  },
  {
   "cell_type": "code",
   "execution_count": 233,
   "metadata": {},
   "outputs": [],
   "source": [
    "'''\n",
    "df8 = spark.read.csv( \"yelp-dataset/yelp_review.csv\", header=True)\n",
    "df8 = df8.withColumn(\"label\", df8[\"stars\"].cast(\"double\"))\n",
    "\n",
    "'''\n",
    "\n",
    "#Very important to use this format to read data this way, as Text reviews are really long and tend to go over to \n",
    "# next line in CSV. This Syntax understands the schema of the data.\n",
    "\n",
    "df = spark.read.format('csv').options(header = True, inferSchema = True, multiline = True).load(\"yelp-dataset/yelp_review.csv\")\n",
    "df = df.withColumn(\"label\", df[\"stars\"].cast(\"double\"))\n",
    "\n",
    "df2 = spark.read.format('csv').options(header = True, inferSchema = True, multiline = True).load(\"yelp-dataset/yelp_business.csv\")\n",
    "df2.count()"
   ]
  },
  {
   "cell_type": "code",
   "execution_count": 238,
   "metadata": {},
   "outputs": [],
   "source": [
    "df2 = spark.read.csv( \"yelp-dataset/yelp_business.csv\", header=True)"
   ]
  },
  {
   "cell_type": "markdown",
   "metadata": {},
   "source": [
    "# <font color = 'black'> Tokenizing, Converting all words to Lowercase, Stop Words Removal and Lemmatization."
   ]
  },
  {
   "cell_type": "code",
   "execution_count": 8,
   "metadata": {},
   "outputs": [
    {
     "name": "stdout",
     "output_type": "stream",
     "text": [
      "lemma_antbnc download started this may take some time.\n",
      "Approximate size to download 907.6 KB\n",
      "[OK!]\n"
     ]
    }
   ],
   "source": [
    "\n",
    "\n",
    "documentAssembler = DocumentAssembler().setInputCol(\"text\") \\\n",
    "     .setOutputCol(\"document\")\n",
    "\n",
    "tokenizer = Tokenizer() \\\n",
    "     .setInputCols([\"document\"]) \\\n",
    "     .setOutputCol(\"token\")\n",
    "# note normalizer defaults to changing all words to lowercase.\n",
    "# Use .setLowercase(False) to maintain input case.\n",
    "\n",
    "normalizer = Normalizer() \\\n",
    "     .setInputCols(['token']) \\\n",
    "     .setOutputCol(\"normalized\") \\\n",
    "     .setLowercase(True)\n",
    "# note that lemmatizer needs a dictionary. So I used the pre-trained\n",
    "# model (note that it defaults to english)\n",
    "\n",
    "lemmatizer = LemmatizerModel.pretrained() \\\n",
    "     .setInputCols([\"normalized\"]) \\\n",
    "     .setOutputCol(\"lemma\") \\\n",
    "\n",
    "stopwords_cleaner = StopWordsCleaner() \\\n",
    "     .setInputCols([\"lemma\"]) \\\n",
    "     .setOutputCol(\"clean_lemma\") \\\n",
    "     .setCaseSensitive(False) \\\n",
    "     .setStopWords(eng_stopwords)\n",
    "# finisher converts tokens to human-readable output\n",
    "\n",
    "finisher = Finisher() \\\n",
    "     .setInputCols([\"clean_lemma\"]) \\\n",
    "     .setCleanAnnotations(False)"
   ]
  },
  {
   "cell_type": "code",
   "execution_count": 9,
   "metadata": {},
   "outputs": [],
   "source": [
    "pipeline = Pipeline() \\\n",
    "     .setStages([\n",
    "           documentAssembler,\n",
    "           tokenizer,\n",
    "           normalizer,\n",
    "           lemmatizer,\n",
    "           stopwords_cleaner,\n",
    "           finisher\n",
    "     ])"
   ]
  },
  {
   "cell_type": "markdown",
   "metadata": {},
   "source": [
    "# <font color = 'black'> Selecting only the Restaurants business category and Splitting it into Open and Close businesses for Further Analysis. Applying the TEXT Transformation pipeline."
   ]
  },
  {
   "cell_type": "code",
   "execution_count": 17,
   "metadata": {},
   "outputs": [],
   "source": [
    "df2 = df2.filter(df2['categories'].contains('Restaurants'))\n",
    "inner_join = df.join(df2, df.business_id == df2.business_id)\n",
    "inner_join = pipeline.fit(inner_join).transform(inner_join)\n",
    "open_businesses = inner_join.filter(inner_join.is_open == 1)\n",
    "close_businesses = inner_join.filter(inner_join.is_open == 0)"
   ]
  },
  {
   "cell_type": "code",
   "execution_count": 32,
   "metadata": {},
   "outputs": [],
   "source": [
    "counts_1 = open_businesses.select(f.explode('finished_clean_lemma').alias('col')).groupBy('col').count().collect()\n",
    "counts_0 = close_businesses.select(f.explode('finished_clean_lemma').alias('col')).groupBy('col').count().collect()\n"
   ]
  },
  {
   "cell_type": "code",
   "execution_count": 19,
   "metadata": {},
   "outputs": [],
   "source": [
    "open1 = open_businesses.rdd\\\n",
    "    .map(lambda x: x + (len(x['finished_clean_lemma']),))"
   ]
  },
  {
   "cell_type": "code",
   "execution_count": 27,
   "metadata": {},
   "outputs": [],
   "source": [
    "close1 = close_businesses.rdd\\\n",
    "    .map(lambda x: x + (len(x['finished_clean_lemma']),))"
   ]
  },
  {
   "cell_type": "markdown",
   "metadata": {},
   "source": [
    "# <font color = 'black'> Average Length of Reviews by Rating for open and Close businesses"
   ]
  },
  {
   "cell_type": "code",
   "execution_count": 21,
   "metadata": {
    "scrolled": true
   },
   "outputs": [
    {
     "data": {
      "text/plain": [
       "[(5.0, 21), (5.0, 29), (4.0, 11), (5.0, 15), (5.0, 18)]"
      ]
     },
     "execution_count": 21,
     "metadata": {},
     "output_type": "execute_result"
    }
   ],
   "source": [
    "def counts(lines):\n",
    "    return (lines[9],lines[-1])\n",
    "\n",
    "\n",
    "rdd = open1.map(counts)\n",
    "rdd1 = rdd\n",
    "rdd1.take(5)  "
   ]
  },
  {
   "cell_type": "code",
   "execution_count": 28,
   "metadata": {},
   "outputs": [],
   "source": [
    "rdd2 = close1.map(counts)\n",
    "\n",
    "rdd3 = rdd2\n"
   ]
  },
  {
   "cell_type": "code",
   "execution_count": 22,
   "metadata": {},
   "outputs": [],
   "source": [
    "avg_by_key = rdd1 \\\n",
    "    .mapValues(lambda v: (v, 1)) \\\n",
    "    .reduceByKey(lambda a,b: (a[0]+b[0], a[1]+b[1])) \\\n",
    "    .mapValues(lambda v: v[0]/v[1]) \\\n",
    "    .collectAsMap()"
   ]
  },
  {
   "cell_type": "code",
   "execution_count": 29,
   "metadata": {},
   "outputs": [],
   "source": [
    "avg_by_key1 = rdd3 \\\n",
    "    .mapValues(lambda v: (v, 1)) \\\n",
    "    .reduceByKey(lambda a,b: (a[0]+b[0], a[1]+b[1])) \\\n",
    "    .mapValues(lambda v: v[0]/v[1]) \\\n",
    "    .collectAsMap()"
   ]
  },
  {
   "cell_type": "markdown",
   "metadata": {},
   "source": [
    "## <font color = 'black'> Open-Businesses Average Length of Review"
   ]
  },
  {
   "cell_type": "code",
   "execution_count": 26,
   "metadata": {},
   "outputs": [
    {
     "data": {
      "text/plain": [
       "{1.0: 34.48272161134867,\n",
       " 2.0: 31.804897436794768,\n",
       " 3.0: 28.808537410686046,\n",
       " 4.0: 27.4425664236603,\n",
       " 5.0: 26.53172855751497}"
      ]
     },
     "execution_count": 26,
     "metadata": {},
     "output_type": "execute_result"
    }
   ],
   "source": [
    "avg_by_key"
   ]
  },
  {
   "cell_type": "markdown",
   "metadata": {},
   "source": [
    "## <font color = 'black'> Close-Businesses Average Length of Review"
   ]
  },
  {
   "cell_type": "code",
   "execution_count": 30,
   "metadata": {},
   "outputs": [
    {
     "data": {
      "text/plain": [
       "{1.0: 32.807579807352866,\n",
       " 2.0: 30.1150947459087,\n",
       " 3.0: 27.652837527255585,\n",
       " 4.0: 27.268613368755208,\n",
       " 5.0: 26.817120965256066}"
      ]
     },
     "execution_count": 30,
     "metadata": {},
     "output_type": "execute_result"
    }
   ],
   "source": [
    "avg_by_key1"
   ]
  },
  {
   "cell_type": "code",
   "execution_count": 23,
   "metadata": {},
   "outputs": [],
   "source": [
    "group_data = open_businesses.groupBy(\"label\")\n",
    "a = group_data.agg({'label':'count'})"
   ]
  },
  {
   "cell_type": "markdown",
   "metadata": {},
   "source": [
    "## <font color = 'black'> Open-Businesses Total Reviews by Rating"
   ]
  },
  {
   "cell_type": "code",
   "execution_count": 24,
   "metadata": {},
   "outputs": [
    {
     "name": "stdout",
     "output_type": "stream",
     "text": [
      "+-----+------------+\n",
      "|label|count(label)|\n",
      "+-----+------------+\n",
      "|  1.0|      235728|\n",
      "|  4.0|      578860|\n",
      "|  3.0|      294047|\n",
      "|  2.0|      200023|\n",
      "|  5.0|      772112|\n",
      "+-----+------------+\n",
      "\n"
     ]
    }
   ],
   "source": [
    "a.show()"
   ]
  },
  {
   "cell_type": "markdown",
   "metadata": {},
   "source": [
    "## <font color = 'black'> Close-Businesses Total Reviews by Rating"
   ]
  },
  {
   "cell_type": "code",
   "execution_count": 31,
   "metadata": {},
   "outputs": [
    {
     "name": "stdout",
     "output_type": "stream",
     "text": [
      "+-----+------------+\n",
      "|label|count(label)|\n",
      "+-----+------------+\n",
      "|  1.0|       39658|\n",
      "|  4.0|       88834|\n",
      "|  3.0|       50907|\n",
      "|  2.0|       37152|\n",
      "|  5.0|       90836|\n",
      "+-----+------------+\n",
      "\n"
     ]
    }
   ],
   "source": [
    "group_data = close_businesses.groupBy(\"label\")\n",
    "b = group_data.agg({'label':'count'})\n",
    "b.show()"
   ]
  },
  {
   "cell_type": "markdown",
   "metadata": {},
   "source": [
    "# <font color = 'black'> Topic Modelling using LDA with Tf-IDF Vectorizer"
   ]
  },
  {
   "cell_type": "markdown",
   "metadata": {},
   "source": [
    "## <font color ='black'>  Close Businesses Reviews topic modelling"
   ]
  },
  {
   "cell_type": "code",
   "execution_count": 33,
   "metadata": {},
   "outputs": [],
   "source": [
    "inner_join = close_businesses.withColumn(\"index\",monotonically_increasing_id())\n",
    "\n",
    "df_text = inner_join.select(\"index\",\"finished_clean_lemma\")\n",
    "\n",
    "cv = CountVectorizer(inputCol=\"finished_clean_lemma\", outputCol=\"raw_features\", vocabSize=5000, minDF=10.0)\n",
    "cvmodel = cv.fit(df_text)\n",
    "result_cv = cvmodel.transform(df_text)\n",
    "\n",
    "idf = IDF(inputCol=\"raw_features\", outputCol=\"features\")\n",
    "idfModel = idf.fit(result_cv)\n",
    "result_tfidf = idfModel.transform(result_cv) "
   ]
  },
  {
   "cell_type": "code",
   "execution_count": 94,
   "metadata": {
    "scrolled": true
   },
   "outputs": [
    {
     "name": "stdout",
     "output_type": "stream",
     "text": [
      "+-----+--------------------+--------------------+--------------------+\n",
      "|index|finished_clean_lemma|        raw_features|            features|\n",
      "+-----+--------------------+--------------------+--------------------+\n",
      "|    0|[currently, paren...|(5000,[11,74,804,...|(5000,[11,74,804,...|\n",
      "|    1|[come, girlfriend...|(5000,[0,2,8,10,1...|(5000,[0,2,8,10,1...|\n",
      "|    2|[burger, big, por...|(5000,[30,125,142...|(5000,[30,125,142...|\n",
      "|    3|[food, bland, aut...|(5000,[0,303,374]...|(5000,[0,303,374]...|\n",
      "|    4|[service, really,...|(5000,[0,6,14,34,...|(5000,[0,6,14,34,...|\n",
      "|    5|[year, ago, use, ...|(5000,[2,12,14,24...|(5000,[2,12,14,24...|\n",
      "|    6|[yet, try, wasabi...|(5000,[13,36,363,...|(5000,[13,36,363,...|\n",
      "|    7|[busy, place, fri...|(5000,[2,45,62,84...|(5000,[2,45,62,84...|\n",
      "|    8|[atmosphere, rest...|(5000,[6,11,22,63...|(5000,[6,11,22,63...|\n",
      "|    9|[come, friend, bi...|(5000,[1,8,10,11,...|(5000,[1,8,10,11,...|\n",
      "|   10|[decide, give, pl...|(5000,[2,13,31,64...|(5000,[2,13,31,64...|\n",
      "|   11|[chinese, version...|(5000,[284,1096,1...|(5000,[284,1096,1...|\n",
      "|   12|[read, review, pl...|(5000,[2,13,20,24...|(5000,[2,13,20,24...|\n",
      "|   13|[see, people, eat...|(5000,[18,49,67,7...|(5000,[18,49,67,7...|\n",
      "|   14|[ok, sort, perfec...|(5000,[2,4,146,19...|(5000,[2,4,146,19...|\n",
      "|   15|[couple, week, ag...|(5000,[17,175,199...|(5000,[17,175,199...|\n",
      "|   16|[go, dinner, simp...|(5000,[2,3,33,42,...|(5000,[2,3,33,42,...|\n",
      "|   17|[surprise, see, n...|(5000,[1,2,61,64,...|(5000,[1,2,61,64,...|\n",
      "|   18|[go, first, time,...|(5000,[2,3,8,14,3...|(5000,[2,3,8,14,3...|\n",
      "|   19|[would, inclined,...|(5000,[2,20,31,37...|(5000,[2,20,31,37...|\n",
      "+-----+--------------------+--------------------+--------------------+\n",
      "only showing top 20 rows\n",
      "\n"
     ]
    }
   ],
   "source": [
    "result_tfidf.show()"
   ]
  },
  {
   "cell_type": "code",
   "execution_count": 78,
   "metadata": {},
   "outputs": [
    {
     "name": "stdout",
     "output_type": "stream",
     "text": [
      "Training and testing documents:  245678 61709\n"
     ]
    }
   ],
   "source": [
    "#split 80% train set and 20% test set\n",
    "df_training, df_testing = result_tfidf.randomSplit([0.8, 0.2], 1)\n",
    "print('Training and testing documents: ', df_training.count(), df_testing.count())\n",
    "\n",
    "num_topics=10\n",
    "max_iterations=50\n",
    "lda = LDA(k=num_topics, maxIter=max_iterations)\n",
    "ldaModel = lda.fit(result_tfidf)"
   ]
  },
  {
   "cell_type": "markdown",
   "metadata": {},
   "source": [
    "# <font color = 'black'> List of topics with their word weightage."
   ]
  },
  {
   "cell_type": "code",
   "execution_count": 128,
   "metadata": {
    "scrolled": true
   },
   "outputs": [
    {
     "name": "stdout",
     "output_type": "stream",
     "text": [
      "+-----------------------------------------------------------------------------------------------------------------------------------------------------------------+\n",
      "|words                                                                                                                                                            |\n",
      "+-----------------------------------------------------------------------------------------------------------------------------------------------------------------+\n",
      "|[place, restaurant, area, like, location, find, park, look, one, new, wall, locate, shop, old, good, strip, little, cafe, great, street]                         |\n",
      "|[great, food, delicious, good, love, amazing, friendly, service, excellent, menu, place, staff, atmosphere, nice, wine, try, definitely, salad, price, recommend]|\n",
      "|[chicken, fry, pizza, sauce, order, cheese, good, taste, salad, soup, burger, sandwich, rice, like, beef, get, meat, thai, shrimp, pork]                         |\n",
      "|[die, und, hotel, das, der, ist, ich, sehr, war, es, wir, nicht, man, auch, mit, zu, stay, essen, ein, room]                                                     |\n",
      "|[drink, bar, night, beer, hour, sit, table, wait, go, come, seat, great, happy, bartender, get, place, time, friend, good, server]                               |\n",
      "|[sushi, burger, good, place, food, roll, star, price, restaurant, try, review, pretty, really, eat, im, go, well, ive, korean, like]                             |\n",
      "|[taco, salsa, burrito, mexican, pho, de, chip, la, margarita, le, et, bean, tortilla, guacamole, pour, enchilada, un, carne, asada, à]                           |\n",
      "|[order, get, say, tell, take, ask, minute, call, wait, go, food, time, bad, customer, service, never, would, even, manager, one]                                 |\n",
      "|[time, go, review, year, restaurant, last, food, place, ago, one, eat, give, first, come, close, month, get, service, experience, bad]                           |\n",
      "|[breakfast, egg, coffee, free, pancake, cake, brunch, great, make, good, go, food, like, place, bacon, service, restaurant, pastry, bake, menu]                  |\n",
      "+-----------------------------------------------------------------------------------------------------------------------------------------------------------------+\n",
      "\n",
      "+----------------------------------------------------------------------------------------------------------------------------------------------------------------+\n",
      "|weights                                                                                                                                                         |\n",
      "+----------------------------------------------------------------------------------------------------------------------------------------------------------------+\n",
      "|[0.0065, 0.0058, 0.0044, 0.0043, 0.0043, 0.0043, 0.0043, 0.0041, 0.0041, 0.0040, 0.0038, 0.0037, 0.0036, 0.0036, 0.0035, 0.0035, 0.0035, 0.0034, 0.0034, 0.0034]|\n",
      "|[0.0110, 0.0079, 0.0074, 0.0072, 0.0071, 0.0069, 0.0064, 0.0061, 0.0056, 0.0056, 0.0055, 0.0053, 0.0052, 0.0049, 0.0047, 0.0046, 0.0046, 0.0046, 0.0044, 0.0044]|\n",
      "|[0.0096, 0.0092, 0.0082, 0.0079, 0.0074, 0.0074, 0.0068, 0.0059, 0.0058, 0.0056, 0.0054, 0.0051, 0.0050, 0.0050, 0.0049, 0.0049, 0.0048, 0.0046, 0.0044, 0.0044]|\n",
      "|[0.0299, 0.0251, 0.0190, 0.0169, 0.0156, 0.0130, 0.0114, 0.0109, 0.0109, 0.0107, 0.0101, 0.0100, 0.0098, 0.0089, 0.0087, 0.0087, 0.0084, 0.0081, 0.0081, 0.0074]|\n",
      "|[0.0114, 0.0103, 0.0082, 0.0076, 0.0073, 0.0069, 0.0067, 0.0067, 0.0065, 0.0064, 0.0063, 0.0063, 0.0063, 0.0059, 0.0057, 0.0054, 0.0051, 0.0050, 0.0047, 0.0047]|\n",
      "|[0.0159, 0.0119, 0.0083, 0.0075, 0.0071, 0.0071, 0.0068, 0.0068, 0.0051, 0.0050, 0.0047, 0.0047, 0.0046, 0.0045, 0.0045, 0.0045, 0.0044, 0.0043, 0.0042, 0.0042]|\n",
      "|[0.0233, 0.0144, 0.0144, 0.0138, 0.0130, 0.0123, 0.0113, 0.0104, 0.0078, 0.0078, 0.0075, 0.0075, 0.0067, 0.0063, 0.0063, 0.0062, 0.0061, 0.0057, 0.0056, 0.0048]|\n",
      "|[0.0089, 0.0070, 0.0066, 0.0065, 0.0064, 0.0062, 0.0058, 0.0056, 0.0056, 0.0054, 0.0053, 0.0053, 0.0052, 0.0052, 0.0049, 0.0047, 0.0046, 0.0046, 0.0045, 0.0045]|\n",
      "|[0.0086, 0.0075, 0.0065, 0.0060, 0.0059, 0.0055, 0.0055, 0.0054, 0.0050, 0.0048, 0.0046, 0.0045, 0.0045, 0.0045, 0.0043, 0.0043, 0.0042, 0.0042, 0.0041, 0.0041]|\n",
      "|[0.0112, 0.0092, 0.0073, 0.0052, 0.0049, 0.0042, 0.0041, 0.0041, 0.0040, 0.0040, 0.0035, 0.0034, 0.0032, 0.0031, 0.0031, 0.0031, 0.0030, 0.0029, 0.0029, 0.0028]|\n",
      "+----------------------------------------------------------------------------------------------------------------------------------------------------------------+\n",
      "\n"
     ]
    }
   ],
   "source": [
    "topics = ldaModel.describeTopics(maxTermsPerTopic=20)\n",
    "vocabArray = cvmodel.vocabulary\n",
    "numTopics=20\n",
    "\n",
    "ListOfIndexToWords = udf(lambda wl: list([vocabArray[w] for w in wl]))\n",
    "FormatNumbers = udf(lambda nl: [\"{:1.4f}\".format(x) for x in nl])\n",
    "\n",
    "topics.select(ListOfIndexToWords(topics.termIndices).alias('words')).show(truncate=False, n=numTopics)\n",
    "topics.select(FormatNumbers(topics.termWeights).alias('weights')).show(truncate=False, n=numTopics)"
   ]
  },
  {
   "cell_type": "code",
   "execution_count": 84,
   "metadata": {},
   "outputs": [
    {
     "name": "stdout",
     "output_type": "stream",
     "text": [
      "False\n"
     ]
    }
   ],
   "source": [
    "print(ldaModel.isDistributed())\n",
    "path = \"\"\n",
    "\n",
    "model_number = 'x'\n",
    "cvmodel.save(path + 'CVModel'+ model_number)\n",
    "ldaModel.save(path + 'LDAModel'+ model_number)\n",
    "lda.save(path + 'LDA_'+ model_number)"
   ]
  },
  {
   "cell_type": "markdown",
   "metadata": {},
   "source": [
    "# Chain of Restaurants and the second part"
   ]
  },
  {
   "cell_type": "code",
   "execution_count": 102,
   "metadata": {},
   "outputs": [],
   "source": [
    "group_data = df2.groupBy(\"name\")\n",
    "a = group_data.agg({'name':'count'})"
   ]
  },
  {
   "cell_type": "code",
   "execution_count": 113,
   "metadata": {},
   "outputs": [],
   "source": [
    "a = a.withColumn(\"isChain\", when(a['count(name)'] > 1 , True).otherwise(False))"
   ]
  },
  {
   "cell_type": "code",
   "execution_count": 114,
   "metadata": {
    "scrolled": true
   },
   "outputs": [
    {
     "name": "stdout",
     "output_type": "stream",
     "text": [
      "+--------------------+-----------+-------+\n",
      "|                name|count(name)|isChain|\n",
      "+--------------------+-----------+-------+\n",
      "|\"\"\"Rôtisserie Sco...|          8|   true|\n",
      "| \"\"\"Spicy & Sweet\"\"\"|          1|  false|\n",
      "|\"\"\"Atti Restauran...|          1|  false|\n",
      "|     \"\"\"Sakana-Ya\"\"\"|          2|   true|\n",
      "|\"\"\"Bistro On Aven...|          2|   true|\n",
      "|\"\"\"Quill Creek Ca...|          1|  false|\n",
      "|\"\"\"Hickory Tavern\"\"\"|          8|   true|\n",
      "|    \"\"\"L'Héritage\"\"\"|          1|  false|\n",
      "|  \"\"\"Asian Legend\"\"\"|          7|   true|\n",
      "|\"\"\"The Fresh Ital...|          1|  false|\n",
      "|\"\"\"Fernandez Hot-...|          1|  false|\n",
      "|\"\"\"Joe De's Favor...|          1|  false|\n",
      "|       \"\"\"Fushimi\"\"\"|          2|   true|\n",
      "|\"\"\"Wildflower Bre...|          8|   true|\n",
      "|  \"\"\"Sushi Island\"\"\"|          1|  false|\n",
      "|\"\"\"City Lights Ba...|          1|  false|\n",
      "|\"\"\"La Maison Pale...|          1|  false|\n",
      "|\"\"\"Parsian Fine F...|          1|  false|\n",
      "| \"\"\"Buca di Beppo\"\"\"|          9|   true|\n",
      "|\"\"\"Spuntini Resta...|          1|  false|\n",
      "+--------------------+-----------+-------+\n",
      "only showing top 20 rows\n",
      "\n"
     ]
    }
   ],
   "source": [
    "a.show()"
   ]
  },
  {
   "cell_type": "markdown",
   "metadata": {},
   "source": [
    "# <font color = 'black'> Topic - Modelling Analysis. (CLOSED-BUSINESSES)\n",
    "\n",
    "## <font color = 'black'> 1) Most Important Review in Each Topic\n",
    "\n",
    "## <font color = 'black'> 2) Understanding the Distribution of Topics by Each Rating.    "
   ]
  },
  {
   "cell_type": "code",
   "execution_count": 137,
   "metadata": {
    "scrolled": true
   },
   "outputs": [
    {
     "name": "stdout",
     "output_type": "stream",
     "text": [
      "Topic 0\n",
      "\n",
      "Top Document(s): [Row(ID=120259094738, weight=0.9975818728559357)]\n",
      "+----------------------------------------------------------------------------------------------------------------------------------------------------------------------------------------------------------------------------------------------------------------------------------------------------------------------------------------------------------------------------------------------------------------------------------------------------------------------------------------------------------------------------------------------------------------------------------------------------------------------------------------+\n",
      "|finished_clean_lemma                                                                                                                                                                                                                                                                                                                                                                                                                                                                                                                                                                                                                    |\n",
      "+----------------------------------------------------------------------------------------------------------------------------------------------------------------------------------------------------------------------------------------------------------------------------------------------------------------------------------------------------------------------------------------------------------------------------------------------------------------------------------------------------------------------------------------------------------------------------------------------------------------------------------------+\n",
      "|[change, owner, team, last, couple, year, seem, make, huge, difference, wonderful, time, weekend, stay, anchorage, house, beautiful, heritage, home, rent, room, bnb, style, across, street, inn, operate, folk, eat, pub, auberge, couple, time, pleasure, continental, breakfast, serve, inn, morning, everywhere, go, buildings, immaculately, clean, tasteful, cozy, decor, bed, room, stay, super, comfy, room, big, cool, bright, please, anchorage, house, im, think, rent, whole, thing, upcoming, family, reunion, get, big, lovely, kitchen, back, deck, bbq, dining, room, table, bedroom, plus, access, eat, across, street]|\n",
      "+----------------------------------------------------------------------------------------------------------------------------------------------------------------------------------------------------------------------------------------------------------------------------------------------------------------------------------------------------------------------------------------------------------------------------------------------------------------------------------------------------------------------------------------------------------------------------------------------------------------------------------------+\n",
      "\n",
      "Top terms:\n",
      "[place, restaurant, area, like, location, find, park, look, one, new, wall, locate, shop, old, good, strip, little, cafe, great, street] \n",
      "\n",
      "===================================================\n",
      "Topic 1\n",
      "\n",
      "Top Document(s): [Row(ID=128849023696, weight=0.9964731190256284)]\n",
      "+-------------------------------------------------------------------------------------------------------------------------------------------------------------------------------------------------------------------------------------------------------------------------------------------------------------------------------------------------------------------------------------------------------------------------------------------------------------------+\n",
      "|finished_clean_lemma                                                                                                                                                                                                                                                                                                                                                                                                                                               |\n",
      "+-------------------------------------------------------------------------------------------------------------------------------------------------------------------------------------------------------------------------------------------------------------------------------------------------------------------------------------------------------------------------------------------------------------------------------------------------------------------+\n",
      "|[indian, food, favorite, cuisine, many, different, indian, restaurant, around, globe, go, dinner, service, though, decor, date, boyfriend, beyond, please, entire, experience, maharani, top, list, exceptional, restaurant, food, divine, service, impeccable, samosa, chat, garlic, naan, chicken, tikka, masala, lamb, vindaloo, curry, delicious, menu, also, consist, southern, indian, cuisine, definitely, try, next, time, isnt, offer, indian, restaurant]|\n",
      "+-------------------------------------------------------------------------------------------------------------------------------------------------------------------------------------------------------------------------------------------------------------------------------------------------------------------------------------------------------------------------------------------------------------------------------------------------------------------+\n",
      "\n",
      "Top terms:\n",
      "[great, food, delicious, good, love, amazing, friendly, service, excellent, menu, place, staff, atmosphere, nice, wine, try, definitely, salad, price, recommend] \n",
      "\n",
      "===================================================\n",
      "Topic 2\n",
      "\n",
      "Top Document(s): [Row(ID=120259086447, weight=0.9979305627623105)]\n",
      "+--------------------------------------------------------------------------------------------------------------------------------------------------------------------------------------------------------------------------------------------------------------------------------------------------------------------------------------------------------------------------------------------------------------------------------------------------------------------------------------------------------------------------------------------------------------------------------------------------------------------------------------------------------------------------------------------------------------------------------------------------+\n",
      "|finished_clean_lemma                                                                                                                                                                                                                                                                                                                                                                                                                                                                                                                                                                                                                                                                                                                              |\n",
      "+--------------------------------------------------------------------------------------------------------------------------------------------------------------------------------------------------------------------------------------------------------------------------------------------------------------------------------------------------------------------------------------------------------------------------------------------------------------------------------------------------------------------------------------------------------------------------------------------------------------------------------------------------------------------------------------------------------------------------------------------------+\n",
      "|[first, time, really, like, lunch, companion, order, chinese, menu, chinese, dont, technically, even, know, name, description, appetizer, mushroom, mixture, wrap, cabbage, dip, tempura, delicate, crispy, time, good, next, seafood, white, sauce, flat, rice, noodle, little, chinese, broccoli, think, broccoli, rabe, floret, carrot, maybe, mushroom, two, fish, perfect, delicate, overcook, shrimp, squid, believe, crispy, salt, sole, amazing, definitely, even, well, jalapeno, onion, crispy, bit, fish, several, table, know, dish, strip, pork, bean, sprout, brown, sauce, bed, thin, wheat, noodle, crisp, cooktop, top, extra, crispy, bit, really, good, soft, sauce, service, good, would, definitely, recommend, neighborhood]|\n",
      "+--------------------------------------------------------------------------------------------------------------------------------------------------------------------------------------------------------------------------------------------------------------------------------------------------------------------------------------------------------------------------------------------------------------------------------------------------------------------------------------------------------------------------------------------------------------------------------------------------------------------------------------------------------------------------------------------------------------------------------------------------+\n",
      "\n",
      "Top terms:\n",
      "[chicken, fry, pizza, sauce, order, cheese, good, taste, salad, soup, burger, sandwich, rice, like, beef, get, meat, thai, shrimp, pork] \n",
      "\n",
      "===================================================\n",
      "Topic 3\n",
      "\n"
     ]
    },
    {
     "name": "stdout",
     "output_type": "stream",
     "text": [
      "Top Document(s): [Row(ID=34359743361, weight=0.9996638721744766)]\n",
      "+--------------------------------------------------------------------------------------------------------------------------------------------------------------------------------------------------------------------------------------------------------------------------------------------------------------------------------------------------------------------------------------------------------------------------------------------------------------------------------------------------------------------------------------------------------------------------------------------------------------------------------------------------------------------------------------------------------------------------------------------------------------------------------------------------------------------------------------------------------------------------------------------------------------------------------------------------------------------------------------------------------------------------------------------------------------------------------------------------------------------------------------------------------------------------------------------------------------------------------------------------------------------------------------------------------------------------------------------------------------------------------------------------------------------------------------------------------------------------------------------------------------------------------------------------------------------------------------------------------------------------------------------------------------------------------------------------------------------------------------------------------------------------------------------------------------------------------------------------------------------------------------------------------------------------------------------------------------------------------------------------------------------------------------------------------------------------------------------------------------------------------------------------------------------------------------------------------------------------------------------------------------------------------------------------------------------------------------------------------------------------------------------------------------------------------------------------------------------------------------------------------------------------------------------------------------------------------------------------------------------------------------------------------------------------------------------------------------------------------------------------------------------------------------------------------------------------------------------------------------------------------------------------------------------------------------------------------------------------------------------------------------------------------------------------------------------------------------------------------------------------------------------------------------------------------------------------------------------------------------------------------------------------------------------------------------------------------------------------------------------------------------------------------------------------------------------------------------------------------------------------------------------------------------------------------------------------------------------------------------------------------------------------------------------------------------------------------------------------------------------------------------------------------------------------------------------------------------------------------------------------------------------------------------------------------------------------------------------------------------------------------------------------------------------------------------------------------------------------------------------------------------------------------------------------------------------------------------------------------------------------------------------------------------------------------------------------------------------------------------------------------------------------------------------------------------------------------------------------------------------------------------------------------------------------------------------------------------------------------------------------------------------------------------------------------------------------------------------------------------------------------------------------------------------------------------------------------------------------------------------------------------------------------------------------------------------------------------------------------------------------------------------------------------------------------------------------------------------------------------------------------------------------------------------------------------------------------------------------------------------------------------------------------------------------------------------------------------------------------------------------------------------------------------------------------------------------------------------------------------------------------------------------------------------------------------------------------------+\n",
      "|finished_clean_lemma                                                                                                                                                                                                                                                                                                                                                                                                                                                                                                                                                                                                                                                                                                                                                                                                                                                                                                                                                                                                                                                                                                                                                                                                                                                                                                                                                                                                                                                                                                                                                                                                                                                                                                                                                                                                                                                                                                                                                                                                                                                                                                                                                                                                                                                                                                                                                                                                                                                                                                                                                                                                                                                                                                                                                                                                                                                                                                                                                                                                                                                                                                                                                                                                                                                                                                                                                                                                                                                                                                                                                                                                                                                                                                                                                                                                                                                                                                                                                                                                                                                                                                                                                                                                                                                                                                                                                                                                                                                                                                                                                                                                                                                                                                                                                                                                                                                                                                                                                                                                                                                                                                                                                                                                                                                                                                                                                                                                                                                                                                                                                                  |\n",
      "+--------------------------------------------------------------------------------------------------------------------------------------------------------------------------------------------------------------------------------------------------------------------------------------------------------------------------------------------------------------------------------------------------------------------------------------------------------------------------------------------------------------------------------------------------------------------------------------------------------------------------------------------------------------------------------------------------------------------------------------------------------------------------------------------------------------------------------------------------------------------------------------------------------------------------------------------------------------------------------------------------------------------------------------------------------------------------------------------------------------------------------------------------------------------------------------------------------------------------------------------------------------------------------------------------------------------------------------------------------------------------------------------------------------------------------------------------------------------------------------------------------------------------------------------------------------------------------------------------------------------------------------------------------------------------------------------------------------------------------------------------------------------------------------------------------------------------------------------------------------------------------------------------------------------------------------------------------------------------------------------------------------------------------------------------------------------------------------------------------------------------------------------------------------------------------------------------------------------------------------------------------------------------------------------------------------------------------------------------------------------------------------------------------------------------------------------------------------------------------------------------------------------------------------------------------------------------------------------------------------------------------------------------------------------------------------------------------------------------------------------------------------------------------------------------------------------------------------------------------------------------------------------------------------------------------------------------------------------------------------------------------------------------------------------------------------------------------------------------------------------------------------------------------------------------------------------------------------------------------------------------------------------------------------------------------------------------------------------------------------------------------------------------------------------------------------------------------------------------------------------------------------------------------------------------------------------------------------------------------------------------------------------------------------------------------------------------------------------------------------------------------------------------------------------------------------------------------------------------------------------------------------------------------------------------------------------------------------------------------------------------------------------------------------------------------------------------------------------------------------------------------------------------------------------------------------------------------------------------------------------------------------------------------------------------------------------------------------------------------------------------------------------------------------------------------------------------------------------------------------------------------------------------------------------------------------------------------------------------------------------------------------------------------------------------------------------------------------------------------------------------------------------------------------------------------------------------------------------------------------------------------------------------------------------------------------------------------------------------------------------------------------------------------------------------------------------------------------------------------------------------------------------------------------------------------------------------------------------------------------------------------------------------------------------------------------------------------------------------------------------------------------------------------------------------------------------------------------------------------------------------------------------------------------------------------------------------------------+\n",
      "|[diesmal, eine, sehr, ausführliche, amüsante, bewertung, eines, sehr, guten, geschäftsfreundes, restaurant, lago, böblingen, dezember, uhr, hui, die, gänsebrust, ist, wegwo, ist, die, versteckte, kamera, ein, kammerspiel, akten, mitwirkende, ahnungslose, gäste, kellner, restaurantmitarbeiter, reservierter, tisch, gan, kg, laut, werbung, kartoffelknödel, rotkraut, flasche, rotwein, schild, eingang, mit, dem, firmenmotto, service, den, man, sieht, und, schmeckt, uhr, tischzuweisung, uhr, getränkebestellung, campari, pil, l, uhr, getränke, werden, serviert, uhr, kleiner, salat, wird, bestellt, wird, später, serviert, sehr, schön, angerichtet, und, schmackhaft, wir, sind, fast, die, einzigen, gäste, zu, einer, zeit, dezember, der, restaurant, wegen, weihnachtsfeiern, im, allgemeinen, sehr, gut, ausgelastet, sind, uhr, aktdie, gan, wird, zunächst, tisch, gezeigt, und, dann, wieder, die, küche, zum, tranchieren, gebracht, fünf, minuten, später, wird, sie, vy, teilen, serviert, erstaunen, oh, die, stücke, sind, aber, sehr, groß, gewordenerstaunen, der, ober, mit, den, zu, kleinen, tellern, für, die, megagansstückeerstaunen, oh, da, sind, ja, noch, beilagen, wie, sollen, die, noch, auf, die, teller, passen, aktdie, optisch, mal, ganz, gut, aussehende, gan, wird, probierterstaunen, wie, soll, man, sich, mit, den, zwei, löffeln, die, im, gänsebottich, liegen, eines, der, kgstücke, nehmenerstaunen, oh, die, ist, ja, kalt, allenfalls, annähernd, lauwarm, es, klappt, natürlich, nicht, mit, den, löffeln, und, das, gänsestück, knallt, auf, den, servierteller, man, bittet, den, ober, eine, geflügelgabel, zu, bringen, da, die, kunst, mit, den, zwei, löffeln, nicht, beherrscht, wirdder, ober, wird, den, tisch, gewunken, und, informiert, dass, die, gan, alle, andere, al, warm, ist, jeder, von, uns, hat, bereits, einen, gabelbissen, probiertder, ober, bietet, eine, neue, gan, zuzubereitenauf, meinen, hinweis, dass, die, ja, stunden, dauern, würde, schaut, er, mich, verwundert, wir, sagen, ihm, dass, es, ja, ordnung, wäre, wenn, er, dafür, sorgen, könnte, die, bereits, tranchierten, stücke, einfach, nochmal, im, ofen, aufzuwärmen, die, beilagen, werden, auch, wieder, die, küche, zurück, gebracht, aktnach, minuten, kommt, die, gan, wieder, zurück, diesmal, bereits, auf, tellern, für, jeden, gast, aufgeteilt, hierbei, war, mein, wunsch, das, blaukraut, wegzulassenjeder, hatte, ja, schon, ein, gabelbissen, zuvor, probiert, daher, ist, die, richtige, zuordnung, wichtig, klappt, natürlich, nicht, die, teller, werden, uns, wahllos, vor, die, nase, gestellt, al, man, dem, ober, sagt, dass, die, zuordnung, falsch, ist, und, sozusagen, jemand, ein, von, einem, anderen, bereits, angespeistes, gänseteil, erhält, reagiert, er, gleichgültig, und, trabt, mit, den, tellern, wieder, die, küche, wir, haben, die, falschzuteilung, daran, erkannt, dass, es, ja, nur, zwei, gänsekeulen, und, zwei, stücke, mit, brust, großer, knochen, gibtfünf, minuten, später, kommt, dann, ober, nr, mit, zwei, tellern, wieder, au, der, küche, und, stellt, diese, richtig, also, bei, mir, ohne, blaukraut, hin, da, das, besteck, sich, auf, den, zuvor, abgeräumten, tellern, befand, und, nun, kein, neues, gebracht, bat, mein, kollege, einen, der, ober, um, besteck, aber, irgendwie, wurde, die, dann, wohl, vergessen, damit, nicht, alle, wieder, kalt, wurde, deckten, wir, uns, mit, besteck, von, einem, der, nebentische, des, immer, noch, zu, leeren, restaurant, ein, aktmein, erschrecken, war, groß, al, ich, den, teller, um, drehte, die, gänsebrust, war, komplett, herausgetrennt, und, fehlte, waren, eigentlich, nur, noch, große, knochen, und, andere, ungenießbare, teile, vorhanden, ich, bat, kellner, nr, den, tisch, und, fragte, hier, denn, passiert, sei, der, keller, antwortete, dass, der, küche, bestimmt, nichts, verschwunden, sei, ich, erwiderte, schön, und, gut, aber, die, brust, ist, weg, und, es, ist, zuvor, nur, ein, gabelbissen, von, mir, verspeist, worden, verdutzt, verließ, er, unseren, tisch, und, es, kam, eine, neue, person, spielein, gut, gekleideter, junger, herr, fragt, nun, es, denn, für, probleme, gibtich, erzählte, ihm, von, dem, magischen, verschwinden, der, begehrten, gänsebrust, der, hoffnung, nun, einen, kompetenten, ansprechpartner, gefunden, zu, haben, der, nicht, gleich, alle, vehement, abstreitet, ob, es, der, geschäftsführer, war, ist, mir, nicht, bekannt, da, er, sich, nicht, vorgestellt, hat, jedoch, muss, er, doch, etwas, mehr, einfluss, haben, al, die, drei, ratlosen, und, verwirrten, kellnerjunger, mann, im, anzug, naja, unserer, küche, verschwindet, nichts, irgendwo, muss, doch, die, gänsebrust, doch, verblieben, sein, mein, leerer, magen, der, außer, einem, einzigen, gabelbissen, noch, nichts, verspeist, hatte, knurrteer, bot, der, küche, noch, ein, stück, zubereiten, zu, lassen, ich, sagte, ihm, dass, ich, nur, gänsebrust, esse, und, keinesfalls, eine, gänsekeule, zumal, es, ja, noch, eine, unangetastete, gänsekeule, gab, aktnach, weiteren, minuten, kam, ober, nr, au, der, küche, und, brachte, mir, eine, weitere, gänsekeule, er, reagierte, nicht, auf, meinen, einwand, dass, hier, nicht, das, erwünschte, serviert, wurde, und, zog, lautlos, wieder, ab, wiederum, gespräch, mit, ober, nr, der, sich, bereits, der, nähe, des, tisches, befand, nochmals, meine, erklärung, hier, schief, gelaufen, ist, ober]|\n",
      "+--------------------------------------------------------------------------------------------------------------------------------------------------------------------------------------------------------------------------------------------------------------------------------------------------------------------------------------------------------------------------------------------------------------------------------------------------------------------------------------------------------------------------------------------------------------------------------------------------------------------------------------------------------------------------------------------------------------------------------------------------------------------------------------------------------------------------------------------------------------------------------------------------------------------------------------------------------------------------------------------------------------------------------------------------------------------------------------------------------------------------------------------------------------------------------------------------------------------------------------------------------------------------------------------------------------------------------------------------------------------------------------------------------------------------------------------------------------------------------------------------------------------------------------------------------------------------------------------------------------------------------------------------------------------------------------------------------------------------------------------------------------------------------------------------------------------------------------------------------------------------------------------------------------------------------------------------------------------------------------------------------------------------------------------------------------------------------------------------------------------------------------------------------------------------------------------------------------------------------------------------------------------------------------------------------------------------------------------------------------------------------------------------------------------------------------------------------------------------------------------------------------------------------------------------------------------------------------------------------------------------------------------------------------------------------------------------------------------------------------------------------------------------------------------------------------------------------------------------------------------------------------------------------------------------------------------------------------------------------------------------------------------------------------------------------------------------------------------------------------------------------------------------------------------------------------------------------------------------------------------------------------------------------------------------------------------------------------------------------------------------------------------------------------------------------------------------------------------------------------------------------------------------------------------------------------------------------------------------------------------------------------------------------------------------------------------------------------------------------------------------------------------------------------------------------------------------------------------------------------------------------------------------------------------------------------------------------------------------------------------------------------------------------------------------------------------------------------------------------------------------------------------------------------------------------------------------------------------------------------------------------------------------------------------------------------------------------------------------------------------------------------------------------------------------------------------------------------------------------------------------------------------------------------------------------------------------------------------------------------------------------------------------------------------------------------------------------------------------------------------------------------------------------------------------------------------------------------------------------------------------------------------------------------------------------------------------------------------------------------------------------------------------------------------------------------------------------------------------------------------------------------------------------------------------------------------------------------------------------------------------------------------------------------------------------------------------------------------------------------------------------------------------------------------------------------------------------------------------------------------------------------------------------------------------------------------------------------+\n",
      "\n",
      "Top terms:\n",
      "[die, und, hotel, das, der, ist, ich, sehr, war, es, wir, nicht, man, auch, mit, zu, stay, essen, ein, room] \n",
      "\n",
      "===================================================\n",
      "Topic 4\n",
      "\n"
     ]
    },
    {
     "name": "stdout",
     "output_type": "stream",
     "text": [
      "Top Document(s): [Row(ID=120259091026, weight=0.9970521968611724)]\n",
      "+---------------------------------------------------------------------------------------------------------------------------------------------------------------------------------------------------------------------------------------------------------------------------------------------------------------------------------------------------------------------------------------------------------------------------------------------------------------------------------------------------------------------+\n",
      "|finished_clean_lemma                                                                                                                                                                                                                                                                                                                                                                                                                                                                                                 |\n",
      "+---------------------------------------------------------------------------------------------------------------------------------------------------------------------------------------------------------------------------------------------------------------------------------------------------------------------------------------------------------------------------------------------------------------------------------------------------------------------------------------------------------------------+\n",
      "|[hadnt, awhile, try, sunday, catch, bear, game, place, pretty, busy, get, seat, fast, hostess, super, cute, great, look, id, love, see, person, change, channel, gane, want, tv, close, really, like, place, assign, seat, nfl, package, need, arrive, early, get, good, seat, service, touch, slow, side, bad, consider, busy, food, youd, expect, type, place, well, last, time, sure, fry, chip, need, cheese, everything, go, great, probably, make, nfl, ticket, spot, especially, hostess, work, every, sunday]|\n",
      "+---------------------------------------------------------------------------------------------------------------------------------------------------------------------------------------------------------------------------------------------------------------------------------------------------------------------------------------------------------------------------------------------------------------------------------------------------------------------------------------------------------------------+\n",
      "\n",
      "Top terms:\n",
      "[drink, bar, night, beer, hour, sit, table, wait, go, come, seat, great, happy, bartender, get, place, time, friend, good, server] \n",
      "\n",
      "===================================================\n"
     ]
    }
   ],
   "source": [
    "df = ldaModel.transform(result_tfidf) #defining the dataframe\n",
    "numTopics_toShow=5 #\n",
    "topWords = topics.select(ListOfIndexToWords(topics.termIndices).alias('words')).take(numTopics_toShow)\n",
    "\n",
    "nTopDoc = 1  # show single top document (1) or also second (2) ..\n",
    "\n",
    "for i in range(0, numTopics_toShow):\n",
    "    ntopic = i  # which topic \n",
    "    print('Topic ' + str(ntopic) + '\\n')  \n",
    "\n",
    "    df_sliced = df.select(\"index\", \"topicDistribution\") \\\n",
    "        .rdd.map(lambda r: Row(ID=int(r[0]), weight=float(r[1][ntopic]))).toDF()\n",
    "\n",
    "    DocIDs = df_sliced.sort(df_sliced.weight.desc()).take(nTopDoc)\n",
    "    print('Top Document(s):',DocIDs)\n",
    "    for d_id in DocIDs:\n",
    "        result_tfidf.filter(result_tfidf.index == d_id[0]) \\\n",
    "            .select('finished_clean_lemma') \\\n",
    "            .show(truncate=False)\n",
    "\n",
    "    print('Top terms:')\n",
    "    print(topWords[ntopic][0], '\\n')\n",
    "    print('===================================================')"
   ]
  },
  {
   "cell_type": "code",
   "execution_count": 156,
   "metadata": {},
   "outputs": [
    {
     "data": {
      "image/png": "[encoded data removed]",
      "text/plain": [
       "<Figure size 432x288 with 1 Axes>"
      ]
     },
     "metadata": {
      "needs_background": "light"
     },
     "output_type": "display_data"
    }
   ],
   "source": [
    "countTopDocs = df.select('topicDistribution')\\\n",
    "                .rdd.map(lambda r: Row( nTopTopic = int(np.argmax(r)))).toDF() \\\n",
    "                .groupBy(\"nTopTopic\").count().sort(\"nTopTopic\")\n",
    "\n",
    "pdfLess = countTopDocs.toPandas()\n",
    "\n",
    "pdfLess.plot(color = '#44D3A5', legend = False,\n",
    "                           kind = 'bar', use_index = True, y = 'count', grid = False)\n",
    "plt.xlabel('topic')\n",
    "plt.ylabel('counts')\n",
    "\n",
    "plt.show()"
   ]
  },
  {
   "cell_type": "code",
   "execution_count": 162,
   "metadata": {},
   "outputs": [
    {
     "name": "stdout",
     "output_type": "stream",
     "text": [
      "+---------+-----+\n",
      "|nTopTopic|count|\n",
      "+---------+-----+\n",
      "|        0|35947|\n",
      "|        1|48502|\n",
      "|        2|49077|\n",
      "|        3| 3521|\n",
      "|        4|35920|\n",
      "|        5|37180|\n",
      "|        6| 9189|\n",
      "|        7|38946|\n",
      "|        8|34939|\n",
      "|        9|14166|\n",
      "+---------+-----+\n",
      "\n"
     ]
    }
   ],
   "source": [
    "countTopDocs.show()"
   ]
  },
  {
   "cell_type": "markdown",
   "metadata": {},
   "source": [
    "### <font color = 'black'> Finding the Topic Of each Review and then plotting the distributin of topics by each rating."
   ]
  },
  {
   "cell_type": "code",
   "execution_count": 175,
   "metadata": {},
   "outputs": [],
   "source": [
    "countTopDocs = df.select('topicDistribution')\\\n",
    "                .rdd.map(lambda r: Row( nTopTopic = int(np.argmax(r)))).toDF()"
   ]
  },
  {
   "cell_type": "code",
   "execution_count": 179,
   "metadata": {},
   "outputs": [],
   "source": [
    "countTopDocs = countTopDocs.withColumn(\"index\",monotonically_increasing_id())\n",
    "close_businesses1 = close_businesses.join(countTopDocs, close_businesses.index == countTopDocs.index)"
   ]
  },
  {
   "cell_type": "code",
   "execution_count": 196,
   "metadata": {},
   "outputs": [],
   "source": [
    "countTopDocs2 = close_businesses1.filter(close_businesses1['label'] == 1.00)\\\n",
    "                .groupBy(\"nTopTopic\").count().sort(\"nTopTopic\")\n",
    "\n",
    "pdfLess2 = countTopDocs2.toPandas()\n",
    "\n",
    "countTopDocs3 = close_businesses1.filter(close_businesses1['label'] == 2.00)\\\n",
    "                .groupBy(\"nTopTopic\").count().sort(\"nTopTopic\")\n",
    "\n",
    "pdfLess3 = countTopDocs3.toPandas()\n",
    "\n",
    "\n",
    "countTopDocs4 = close_businesses1.filter(close_businesses1['label'] == 3.00)\\\n",
    "                .groupBy(\"nTopTopic\").count().sort(\"nTopTopic\")\n",
    "\n",
    "pdfLess4 = countTopDocs4.toPandas()\n",
    "\n",
    "\n",
    "countTopDocs5 = close_businesses1.filter(close_businesses1['label'] == 4.00)\\\n",
    "                .groupBy(\"nTopTopic\").count().sort(\"nTopTopic\")\n",
    "\n",
    "pdfLess5 = countTopDocs5.toPandas()\n",
    "\n",
    "\n",
    "countTopDocs6 = close_businesses1.filter(close_businesses1['label'] == 5.00)\\\n",
    "                .groupBy(\"nTopTopic\").count().sort(\"nTopTopic\")\n",
    "\n",
    "pdfLess6 = countTopDocs6.toPandas()\n",
    "\n"
   ]
  },
  {
   "cell_type": "code",
   "execution_count": 195,
   "metadata": {},
   "outputs": [
    {
     "data": {
      "image/png": "[encoded data removed]",
      "text/plain": [
       "<Figure size 432x288 with 1 Axes>"
      ]
     },
     "metadata": {
      "needs_background": "light"
     },
     "output_type": "display_data"
    }
   ],
   "source": [
    "\n",
    "pdfLess2.plot(color = '#44D3A5', legend = False,\n",
    "                           kind = 'bar', use_index = True, y = 'count', grid = False)\n",
    "plt.xlabel('topic')\n",
    "plt.ylabel('counts')\n",
    "\n",
    "plt.show()"
   ]
  },
  {
   "cell_type": "code",
   "execution_count": 197,
   "metadata": {},
   "outputs": [
    {
     "data": {
      "image/png": "[encoded data removed]",
      "text/plain": [
       "<Figure size 432x288 with 1 Axes>"
      ]
     },
     "metadata": {
      "needs_background": "light"
     },
     "output_type": "display_data"
    }
   ],
   "source": [
    "\n",
    "pdfLess3.plot(color = '#44D3A5', legend = False,\n",
    "                           kind = 'bar', use_index = True, y = 'count', grid = False)\n",
    "plt.xlabel('topic')\n",
    "plt.ylabel('counts')\n",
    "\n",
    "plt.show()"
   ]
  },
  {
   "cell_type": "code",
   "execution_count": 198,
   "metadata": {},
   "outputs": [
    {
     "data": {
      "image/png": "[encoded data removed]",
      "text/plain": [
       "<Figure size 432x288 with 1 Axes>"
      ]
     },
     "metadata": {
      "needs_background": "light"
     },
     "output_type": "display_data"
    }
   ],
   "source": [
    "\n",
    "pdfLess4.plot(color = '#44D3A5', legend = False,\n",
    "                           kind = 'bar', use_index = True, y = 'count', grid = False)\n",
    "plt.xlabel('topic')\n",
    "plt.ylabel('counts')\n",
    "\n",
    "plt.show()"
   ]
  },
  {
   "cell_type": "code",
   "execution_count": 199,
   "metadata": {},
   "outputs": [
    {
     "data": {
      "image/png": "[encoded data removed]",
      "text/plain": [
       "<Figure size 432x288 with 1 Axes>"
      ]
     },
     "metadata": {
      "needs_background": "light"
     },
     "output_type": "display_data"
    }
   ],
   "source": [
    "\n",
    "pdfLess5.plot(color = '#44D3A5', legend = False,\n",
    "                           kind = 'bar', use_index = True, y = 'count', grid = False)\n",
    "plt.xlabel('topic')\n",
    "plt.ylabel('counts')\n",
    "\n",
    "plt.show()"
   ]
  },
  {
   "cell_type": "code",
   "execution_count": 200,
   "metadata": {},
   "outputs": [
    {
     "data": {
      "image/png": "[encoded data removed]",
      "text/plain": [
       "<Figure size 432x288 with 1 Axes>"
      ]
     },
     "metadata": {
      "needs_background": "light"
     },
     "output_type": "display_data"
    }
   ],
   "source": [
    "\n",
    "pdfLess6.plot(color = '#44D3A5', legend = False,\n",
    "                           kind = 'bar', use_index = True, y = 'count', grid = False)\n",
    "plt.xlabel('topic')\n",
    "plt.ylabel('counts')\n",
    "\n",
    "plt.show()"
   ]
  },
  {
   "cell_type": "markdown",
   "metadata": {},
   "source": [
    "# <font color = 'black'>  Open Businesses Topic Modelling"
   ]
  },
  {
   "cell_type": "code",
   "execution_count": 217,
   "metadata": {},
   "outputs": [],
   "source": [
    "inner_join1 = open_businesses.withColumn(\"index\",monotonically_increasing_id())\n",
    "\n",
    "df_text1 = inner_join1.select(\"index\",\"finished_clean_lemma\")\n",
    "\n",
    "cv1 = CountVectorizer(inputCol=\"finished_clean_lemma\", outputCol=\"raw_features\", vocabSize=5000, minDF=10.0)\n",
    "cvmodel1 = cv1.fit(df_text1)\n",
    "result_cv1 = cvmodel1.transform(df_text1)\n",
    "\n",
    "idf1 = IDF(inputCol=\"raw_features\", outputCol=\"features\")\n",
    "idfModel1 = idf1.fit(result_cv1)\n",
    "result_tfidf1 = idfModel1.transform(result_cv1) "
   ]
  },
  {
   "cell_type": "code",
   "execution_count": 218,
   "metadata": {},
   "outputs": [
    {
     "name": "stdout",
     "output_type": "stream",
     "text": [
      "Training and testing documents:  245678 61709\n"
     ]
    }
   ],
   "source": [
    "#split 80% train set and 20% test set\n",
    "df_training, df_testing = result_tfidf.randomSplit([0.8, 0.2], 1)\n",
    "print('Training and testing documents: ', df_training.count(), df_testing.count())\n",
    "\n",
    "num_topics=10\n",
    "max_iterations= 30\n",
    "lda = LDA(k=num_topics, maxIter=max_iterations)\n",
    "ldaModel = lda.fit(result_tfidf1)"
   ]
  },
  {
   "cell_type": "markdown",
   "metadata": {},
   "source": [
    "# <font color = 'black'> List of topics with their word weightage. (Open-Businesses)"
   ]
  },
  {
   "cell_type": "code",
   "execution_count": 219,
   "metadata": {
    "scrolled": true
   },
   "outputs": [
    {
     "name": "stdout",
     "output_type": "stream",
     "text": [
      "+-----------------------------------------------------------------------------------------------------------------------------------------------------------+\n",
      "|words                                                                                                                                                      |\n",
      "+-----------------------------------------------------------------------------------------------------------------------------------------------------------+\n",
      "|[chicken, fry, pizza, sauce, good, order, rice, taste, steak, meat, burger, cook, like, pork, chip, get, flavor, cheese, taco, bean]                       |\n",
      "|[die, und, raman, das, der, ist, ich, war, sehr, es, nicht, man, wir, mit, zu, auch, essen, crepe, ein, aber]                                              |\n",
      "|[get, go, order, food, time, star, like, good, give, salad, one, dont, pizza, pay, money, bad, eat, wing, buffet, place]                                   |\n",
      "|[buffet, sushi, seafood, good, crab, roll, indian, fresh, food, restaurant, place, lobster, dish, one, try, chinese, vegas, like, dim, favorite]           |\n",
      "|[great, beer, burger, food, good, friendly, love, place, always, staff, service, bar, amazing, atmosphere, awesome, nice, happy, go, selection, drink]     |\n",
      "|[order, wait, minute, table, take, ask, get, say, time, go, tell, come, food, service, even, server, never, customer, manager, bad]                        |\n",
      "|[de, la, taco, le, et, pour, un, à, les, est, asada, carne, que, pa, en, je, el, une, des, très]                                                           |\n",
      "|[breakfast, egg, coffee, ice, tea, pancake, get, cream, toast, good, vegan, bacon, place, come, food, order, brunch, waffle, go, bagel]                    |\n",
      "|[place, restaurant, sushi, area, good, find, go, look, food, great, night, like, time, park, little, around, get, nice, really, price]                     |\n",
      "|[thai, good, great, delicious, dessert, bread, salad, amazing, cheese, wine, food, dinner, dish, meal, excellent, pasta, service, chicken, appetizer, also]|\n",
      "+-----------------------------------------------------------------------------------------------------------------------------------------------------------+\n",
      "\n",
      "+----------------------------------------------------------------------------------------------------------------------------------------------------------------+\n",
      "|weights                                                                                                                                                         |\n",
      "+----------------------------------------------------------------------------------------------------------------------------------------------------------------+\n",
      "|[0.0092, 0.0085, 0.0078, 0.0073, 0.0068, 0.0067, 0.0060, 0.0054, 0.0054, 0.0051, 0.0050, 0.0049, 0.0048, 0.0047, 0.0045, 0.0044, 0.0044, 0.0044, 0.0043, 0.0042]|\n",
      "|[0.0245, 0.0217, 0.0190, 0.0144, 0.0141, 0.0121, 0.0099, 0.0097, 0.0096, 0.0090, 0.0086, 0.0086, 0.0081, 0.0077, 0.0077, 0.0077, 0.0071, 0.0071, 0.0071, 0.0063]|\n",
      "|[0.0070, 0.0058, 0.0053, 0.0052, 0.0052, 0.0051, 0.0045, 0.0045, 0.0044, 0.0044, 0.0043, 0.0043, 0.0041, 0.0041, 0.0041, 0.0041, 0.0040, 0.0040, 0.0040, 0.0040]|\n",
      "|[0.0091, 0.0064, 0.0063, 0.0061, 0.0056, 0.0055, 0.0052, 0.0051, 0.0050, 0.0049, 0.0048, 0.0044, 0.0043, 0.0043, 0.0043, 0.0042, 0.0042, 0.0040, 0.0040, 0.0039]|\n",
      "|[0.0135, 0.0103, 0.0095, 0.0084, 0.0083, 0.0082, 0.0082, 0.0078, 0.0078, 0.0075, 0.0074, 0.0064, 0.0060, 0.0060, 0.0059, 0.0057, 0.0055, 0.0053, 0.0053, 0.0052]|\n",
      "|[0.0082, 0.0077, 0.0071, 0.0068, 0.0067, 0.0066, 0.0064, 0.0060, 0.0060, 0.0058, 0.0057, 0.0056, 0.0046, 0.0046, 0.0045, 0.0045, 0.0045, 0.0044, 0.0044, 0.0044]|\n",
      "|[0.0201, 0.0174, 0.0158, 0.0139, 0.0136, 0.0103, 0.0097, 0.0085, 0.0079, 0.0070, 0.0069, 0.0067, 0.0062, 0.0062, 0.0055, 0.0054, 0.0053, 0.0052, 0.0049, 0.0047]|\n",
      "|[0.0136, 0.0105, 0.0103, 0.0069, 0.0056, 0.0055, 0.0052, 0.0051, 0.0050, 0.0049, 0.0046, 0.0045, 0.0045, 0.0043, 0.0043, 0.0043, 0.0042, 0.0039, 0.0038, 0.0038]|\n",
      "|[0.0075, 0.0064, 0.0049, 0.0047, 0.0043, 0.0043, 0.0043, 0.0043, 0.0043, 0.0041, 0.0039, 0.0037, 0.0037, 0.0037, 0.0037, 0.0035, 0.0035, 0.0035, 0.0035, 0.0034]|\n",
      "|[0.0072, 0.0055, 0.0055, 0.0054, 0.0051, 0.0050, 0.0046, 0.0042, 0.0041, 0.0040, 0.0039, 0.0039, 0.0039, 0.0037, 0.0036, 0.0035, 0.0035, 0.0035, 0.0035, 0.0035]|\n",
      "+----------------------------------------------------------------------------------------------------------------------------------------------------------------+\n",
      "\n"
     ]
    }
   ],
   "source": [
    "topics1 = ldaModel.describeTopics(maxTermsPerTopic=20)\n",
    "vocabArray1 = cvmodel1.vocabulary\n",
    "numTopics= 10\n",
    "\n",
    "ListOfIndexToWords1 = udf(lambda wl: list([vocabArray1[w] for w in wl]))\n",
    "FormatNumbers1 = udf(lambda nl: [\"{:1.4f}\".format(x) for x in nl])\n",
    "\n",
    "topics1.select(ListOfIndexToWords1(topics1.termIndices).alias('words')).show(truncate=False, n=numTopics)\n",
    "topics1.select(FormatNumbers1(topics1.termWeights).alias('weights')).show(truncate=False, n=numTopics)"
   ]
  },
  {
   "cell_type": "markdown",
   "metadata": {},
   "source": [
    "# <font color = 'black'> Topic - Modelling Analysis. (OPEN-BUSINESSES)\n",
    "\n",
    "## <font color = 'black'> 1) Most Important Review in Each Topic\n",
    "\n",
    "## <font color = 'black'> 2) Understanding the Distribution of Topics by Each Rating.    "
   ]
  },
  {
   "cell_type": "code",
   "execution_count": 220,
   "metadata": {},
   "outputs": [],
   "source": [
    "df1 = ldaModel.transform(result_tfidf1) #defining the dataframe\n",
    "numTopics_toShow=5 #\n",
    "topWords = topics1.select(ListOfIndexToWords1(topics1.termIndices).alias('words')).take(numTopics_toShow)\n",
    "\n",
    "nTopDoc = 1  # show single top document (1) or also second (2) .."
   ]
  },
  {
   "cell_type": "code",
   "execution_count": 221,
   "metadata": {},
   "outputs": [
    {
     "data": {
      "image/png": "[encoded data removed]",
      "text/plain": [
       "<Figure size 432x288 with 1 Axes>"
      ]
     },
     "metadata": {
      "needs_background": "light"
     },
     "output_type": "display_data"
    }
   ],
   "source": [
    "countTopDocs1 = df1.select('topicDistribution')\\\n",
    "                .rdd.map(lambda r: Row( nTopTopic = int(np.argmax(r)))).toDF() \\\n",
    "                .groupBy(\"nTopTopic\").count().sort(\"nTopTopic\")\n",
    "\n",
    "open_topic = countTopDocs1.toPandas()\n",
    "\n",
    "open_topic.plot(color = '#44D3A5', legend = False,\n",
    "                           kind = 'bar', use_index = True, y = 'count', grid = False)\n",
    "plt.xlabel('topic')\n",
    "plt.ylabel('counts')\n",
    "\n",
    "plt.show()"
   ]
  },
  {
   "cell_type": "code",
   "execution_count": 222,
   "metadata": {},
   "outputs": [],
   "source": [
    "countTopDocs1 = df1.select('topicDistribution')\\\n",
    "                .rdd.map(lambda r: Row( nTopTopic = int(np.argmax(r)))).toDF()\n",
    "\n"
   ]
  },
  {
   "cell_type": "code",
   "execution_count": 223,
   "metadata": {},
   "outputs": [],
   "source": [
    "countTopDocs1 = countTopDocs1.withColumn(\"index\",monotonically_increasing_id())\n",
    "open_businesses = open_businesses.withColumn(\"index\",monotonically_increasing_id())\n",
    "open_businesses1 = open_businesses.join(countTopDocs1, open_businesses.index == countTopDocs1.index)"
   ]
  },
  {
   "cell_type": "code",
   "execution_count": 224,
   "metadata": {},
   "outputs": [],
   "source": [
    "countTop = open_businesses1.filter(open_businesses1['label'] == 1.00)\\\n",
    "                .groupBy(\"nTopTopic\").count().sort(\"nTopTopic\")\n",
    "\n",
    "pdf = countTop.toPandas()\n",
    "\n",
    "countTop2 = open_businesses1.filter(open_businesses1['label'] == 2.00)\\\n",
    "                .groupBy(\"nTopTopic\").count().sort(\"nTopTopic\")\n",
    "\n",
    "pdf2 = countTop2.toPandas()\n",
    "\n",
    "\n",
    "countTop3 = open_businesses1.filter(open_businesses1['label'] == 3.00)\\\n",
    "                .groupBy(\"nTopTopic\").count().sort(\"nTopTopic\")\n",
    "\n",
    "pdf3 = countTop3.toPandas()\n",
    "\n",
    "\n",
    "countTop4 = open_businesses1.filter(open_businesses1['label'] == 4.00)\\\n",
    "                .groupBy(\"nTopTopic\").count().sort(\"nTopTopic\")\n",
    "\n",
    "pdf4 = countTop4.toPandas()\n",
    "\n",
    "\n",
    "countTop5 = open_businesses1.filter(open_businesses1['label'] == 5.00)\\\n",
    "                .groupBy(\"nTopTopic\").count().sort(\"nTopTopic\")\n",
    "\n",
    "pdf5 = countTop5.toPandas()\n",
    "\n"
   ]
  },
  {
   "cell_type": "code",
   "execution_count": 225,
   "metadata": {},
   "outputs": [
    {
     "data": {
      "image/png": "[encoded data removed]",
      "text/plain": [
       "<Figure size 432x288 with 1 Axes>"
      ]
     },
     "metadata": {
      "needs_background": "light"
     },
     "output_type": "display_data"
    }
   ],
   "source": [
    "\n",
    "pdf.plot(color = '#44D3A5', legend = False,\n",
    "                           kind = 'bar', use_index = True, y = 'count', grid = False)\n",
    "plt.xlabel('topic')\n",
    "plt.ylabel('counts')\n",
    "\n",
    "plt.show()"
   ]
  },
  {
   "cell_type": "code",
   "execution_count": 226,
   "metadata": {},
   "outputs": [
    {
     "data": {
      "image/png": "[encoded data removed]",
      "text/plain": [
       "<Figure size 432x288 with 1 Axes>"
      ]
     },
     "metadata": {
      "needs_background": "light"
     },
     "output_type": "display_data"
    }
   ],
   "source": [
    "\n",
    "pdf2.plot(color = '#44D3A5', legend = False,\n",
    "                           kind = 'bar', use_index = True, y = 'count', grid = False)\n",
    "plt.xlabel('topic')\n",
    "plt.ylabel('counts')\n",
    "\n",
    "plt.show()"
   ]
  },
  {
   "cell_type": "code",
   "execution_count": 227,
   "metadata": {},
   "outputs": [
    {
     "data": {
      "image/png": "[encoded data removed]",
      "text/plain": [
       "<Figure size 432x288 with 1 Axes>"
      ]
     },
     "metadata": {
      "needs_background": "light"
     },
     "output_type": "display_data"
    }
   ],
   "source": [
    "\n",
    "pdf3.plot(color = '#44D3A5', legend = False,\n",
    "                           kind = 'bar', use_index = True, y = 'count', grid = False)\n",
    "plt.xlabel('topic')\n",
    "plt.ylabel('counts')\n",
    "\n",
    "plt.show()"
   ]
  },
  {
   "cell_type": "code",
   "execution_count": 228,
   "metadata": {},
   "outputs": [
    {
     "data": {
      "image/png": "[encoded data removed]",
      "text/plain": [
       "<Figure size 432x288 with 1 Axes>"
      ]
     },
     "metadata": {
      "needs_background": "light"
     },
     "output_type": "display_data"
    }
   ],
   "source": [
    "\n",
    "pdf4.plot(color = '#44D3A5', legend = False,\n",
    "                           kind = 'bar', use_index = True, y = 'count', grid = False)\n",
    "plt.xlabel('topic')\n",
    "plt.ylabel('counts')\n",
    "\n",
    "plt.show()"
   ]
  },
  {
   "cell_type": "code",
   "execution_count": 229,
   "metadata": {},
   "outputs": [
    {
     "data": {
      "image/png": "[encoded data removed]",
      "text/plain": [
       "<Figure size 432x288 with 1 Axes>"
      ]
     },
     "metadata": {
      "needs_background": "light"
     },
     "output_type": "display_data"
    }
   ],
   "source": [
    "\n",
    "pdf5.plot(color = '#44D3A5', legend = False,\n",
    "                           kind = 'bar', use_index = True, y = 'count', grid = False)\n",
    "plt.xlabel('topic')\n",
    "plt.ylabel('counts')\n",
    "\n",
    "plt.show()"
   ]
  },
  {
   "cell_type": "markdown",
   "metadata": {},
   "source": [
    "# <font color ='black'> Conclusion\n",
    "\n",
    "## <font color ='black'> The most important Reasons that look to leading to the Closure of Restaurants in USA are \n",
    "\n",
    "## <font color ='black'> poor customer service and poor mexican food. Open Businesses tend to have more favourable topics"
   ]
  }
 ],
 "metadata": {
  "kernelspec": {
   "display_name": "Python 3",
   "language": "python",
   "name": "python3"
  },
  "language_info": {
   "codemirror_mode": {
    "name": "ipython",
    "version": 3
   },
   "file_extension": ".py",
   "mimetype": "text/x-python",
   "name": "python",
   "nbconvert_exporter": "python",
   "pygments_lexer": "ipython3",
   "version": "3.7.4"
  }
 },
 "nbformat": 4,
 "nbformat_minor": 2
}
